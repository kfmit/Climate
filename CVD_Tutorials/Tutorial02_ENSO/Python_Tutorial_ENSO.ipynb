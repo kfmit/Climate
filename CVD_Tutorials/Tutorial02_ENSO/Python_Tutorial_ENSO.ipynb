{
 "cells": [
  {
   "cell_type": "markdown",
   "id": "accomplished-ridge",
   "metadata": {},
   "source": [
    "# <font color='orange'>Tutorial 2 - El Nino Southern Oscillation</font>\n",
    "\n",
    "#### <font color='skyblue'>12.860 Climate Variability and Diagnostics (Fall 2021)</font>\n",
    "\n",
    "##### *This tutorial is based on the \"Matlab Tutorial ENSO\" written by Svenja Ryan for 12.860, Fall 2019*\n",
    "\n",
    "What you will need from Canvas:\n",
    "\n",
    "1. <font color='magenta'>noaa_psl_indices_soi.txt</font>\n",
    "2. <font color='magenta'>sst.mon.mean_1982.01-2020.12.nc</font>\n",
    "3. <font color='magenta'>cvd_utils.py</font> (Script should be placed outside this folder, in <font color='magenta'>CVD_Tutorials</font>.\n",
    "\n",
    "Throughout this notebook, key tasks will be indicated as follows:\n",
    "\n",
    "<font color='orange'>**!! Q0 -** Look for tasks like these. There are 12 in this notebook.\n",
    "\n",
    "Please be sure to complete these tasks, as we will be checking for their  completion while marking.\n",
    "\n",
    "Work through the script, and export this as html and/or as pdf, which be your report in addition to the live script. For the final report that you hand in, only keep the important parts and delete the rest of the code.\n",
    "\n",
    "Please make sure that the file contains\n",
    "- Well-documented code\n",
    "- Answers to all the specified questions asked within the script\n",
    "- Your figures with proper labeling (i.e. axis and colorbar labels, as well as titles and legends (where needed). Add figure captions for each figure. They can be added as text in a cell below the figure.\n",
    "- Short descriptions on each of the figures and their interpretation, as specified within the notebook.\n",
    "\n",
    "Please include your name in the file name, e.g. <font color='magenta'>ENSO_GlennLiu.ipynb</font>\n",
    "    \n",
    "Check the list at the end of the notebook for additional submission instructions. "
   ]
  },
  {
   "cell_type": "code",
   "execution_count": null,
   "id": "patient-acoustic",
   "metadata": {},
   "outputs": [],
   "source": [
    "# Run this cell to import the necessary modules\n",
    "\n",
    "import pandas as pd\n",
    "import numpy as np\n",
    "import matplotlib.pyplot as plt\n",
    "import xarray as xr\n",
    "import cmocean # Colormaps for oceanography\n",
    "\n",
    "# Filtering Functions\n",
    "from scipy import signal,ndimage,stats     # Filtering functions, stats\n",
    "from scipy.io import loadmat               # Loading matfiles\n",
    "\n",
    "# Interactive Plotting\n",
    "import hvplot.xarray\n",
    "import panel as pn\n",
    "import panel.widgets as pnw\n",
    "\n",
    "\n",
    "# Add cvd-utils module (this should be located in the CVD_Tutorials directory)\n",
    "import sys\n",
    "sys.path.append(\"../\") # This assumes that your /.ipynb file is located in CVD_Tutorials/Tutorial01_Intro/\n",
    "# If you prefer to place cvd_utils.py elsewhere, swap \"../\" with its current path.\n",
    "import cvd_utils as cvd"
   ]
  },
  {
   "cell_type": "markdown",
   "id": "choice-narrow",
   "metadata": {},
   "source": [
    "## <font color='green'>Loading the Southern Oscillation Index (SOI) Dataset</font>\n",
    "\n",
    "The full dataset is the Southern Oscillation Index from 1876 to present and is available at http://www.bom.gov.au/climate/enso/soi/. We will be working with a subset of this data from 1982 to 2020 (<font color='magenta'>\"noaa_psl_indices_soi.txt\"</font>), downloaded from NOAA's Climate Indices time series (https://psl.noaa.gov/data/climateindices/list/).\n",
    "\n",
    "\n",
    "<font color='orange'>**!! Q1** : *Give a short explanation what the SOI represents</font> (Hint: check out http://www.bom.gov.au/climate/glossary/soi.shtml)*\n"
   ]
  },
  {
   "cell_type": "code",
   "execution_count": null,
   "id": "guided-warning",
   "metadata": {},
   "outputs": [],
   "source": [
    "\"\"\"\n",
    "Type your answer here:\n",
    "\n",
    "\"\"\""
   ]
  },
  {
   "cell_type": "markdown",
   "id": "meaning-philip",
   "metadata": {},
   "source": [
    "NOTE: *Below is a brief introduction to Pandas$^1$, which we are using to load the txt file. If you are already comfortable loading/working with txt data in Python, feel free to use the package of your choice and skip down to <font color='green'>\"Plotting the SOI Index\"</font> below!*\n",
    "\n",
    "### <font color='green'>Loading Data with Pandas</font>\n",
    "\n",
    "To load the data, we will be working with [pandas](https://geo-python-site.readthedocs.io/en/latest/lessons/L5/pandas-overview.html?highlight=pandas) (usually referred to in shorthand as \"pd\"), a popular module for working with tabular datasets. \n",
    "\n",
    "In Pandas, there are two type of data structures:\n",
    "\n",
    "1. [Pandas Series](https://pandas.pydata.org/docs/reference/api/pandas.Series.html) are 1-dimensional data series or sequence of values.\n",
    "2. [Pandas Dataframes](https://pandas.pydata.org/docs/reference/api/pandas.DataFrame.html)</font> are 2-dimensional data structures (Row x Column), and is similar to an excel spreadsheet.\n",
    "\n",
    "Some of the advantages of working with Pandas data structures include the use of label-based indexing to retrieve data, rather than just numerical indices like in NumPy. Additionally, many operations that would take multiple lines in NumPy can be executed with a single line in Pandas.$^2$\n",
    "\n",
    "Run the following cells to load in text file into a Pandas Dataframe (df).\n",
    "\n",
    "<font size=\"1.5\">[1]: For a more detailed introduction on using Pandas for geosciences, check out the \"[Exploring data using Pandas](https://geo-python-site.readthedocs.io/en/latest/notebooks/L5/exploring-data-using-pandas.html)\" guide from the online Geo-Python course by the University of Helsinki</font>\n",
    "<br /><font size=\"1.5\">[2]: For example, try adding [.describe()](https://pandas.pydata.org/docs/reference/api/pandas.Series.describe.html) after your series to quickly obtain summary statistics."
   ]
  },
  {
   "cell_type": "code",
   "execution_count": null,
   "id": "extra-contents",
   "metadata": {},
   "outputs": [],
   "source": [
    "# Load the SOI data\n",
    "\n",
    "# Note that by default, read_csv assumes the first row is the column label. \n",
    "# Pass the argument \"header=None\" to prevent this behavior.\n",
    "df_soi = pd.read_csv(\"noaa_psl_indices_soi.txt\",header=None,delim_whitespace=True)\n",
    "\n",
    "# # Assign some labels to the dataframe columns\n",
    "df_soi.columns=['time','soi']\n",
    "\n",
    "df_soi"
   ]
  },
  {
   "cell_type": "markdown",
   "id": "prepared-orbit",
   "metadata": {},
   "source": [
    "Note that the text file contains two columns. Column 1 is the date, column 2 is the SOI Index. Each column (or row) corresponds to a Series, which together comprise the Dataframe. You can access columns using the label of the column (ex: Both <font color='blue'>df_soi['time']</font> or <font color='blue'>df_soi.time</font> retrieves the column labeled 'time')."
   ]
  },
  {
   "cell_type": "code",
   "execution_count": null,
   "id": "d74ae35b-fb46-42f7-b267-6aa1c0e1cea4",
   "metadata": {},
   "outputs": [],
   "source": [
    "# Access the time column using the string label\n",
    "series_time = df_soi['time']\n",
    "print(series_time)\n",
    "\n",
    "print(\"\")\n",
    "\n",
    "# Another way to access the soi column is through using dot notation...\n",
    "series_soi = df_soi.soi\n",
    "print(series_soi)"
   ]
  },
  {
   "cell_type": "markdown",
   "id": "98cd9b32-91da-4c16-b5b2-e55e33ff8f79",
   "metadata": {},
   "source": [
    "To access a row of data, you can use <font color='blue'>df.loc[index_label]</font> or <font color='blue'>df.iloc[index_number]</font> where \"index_number\" is the row's integer position. Since we haven't explicitly assigned labels to our dataframe, both approaches are equivalent. See the [documentation ](https://pandas.pydata.org/pandas-docs/stable/user_guide/indexing.html) for more details on indexing in Pandas."
   ]
  },
  {
   "cell_type": "code",
   "execution_count": null,
   "id": "4ce0c9bc-8737-4679-b990-ad139f06b0ca",
   "metadata": {},
   "outputs": [],
   "source": [
    "# Retrieve the first row\n",
    "# Both methods below are equivalent since we have not assigned index labels.\n",
    "print(df_soi.iloc[0])\n",
    "print(\"\")\n",
    "print(df_soi.loc[0])"
   ]
  },
  {
   "cell_type": "markdown",
   "id": "6c712680-b6db-4357-80c1-73ba99769bd8",
   "metadata": {},
   "source": [
    "If you prefer to work directly with NumPy arrays, you can easily convert the dataframe as follows:"
   ]
  },
  {
   "cell_type": "code",
   "execution_count": null,
   "id": "moving-control",
   "metadata": {},
   "outputs": [],
   "source": [
    "# Run the following if you prefer to work with numpy arrays\n",
    "time     = df_soi['time'].to_numpy() # Retrieve the column labeled 'time'\n",
    "soi      = df_soi['soi'].to_numpy() # Retrieve the column labeled 'soi_index'"
   ]
  },
  {
   "cell_type": "markdown",
   "id": "48ffba26-193e-4132-8e10-7211450c762e",
   "metadata": {},
   "source": [
    "## <font color='green'>Plotting the SOI Index</font>\n",
    "\n",
    "Use the [plot](https://matplotlib.org/stable/api/_as_gen/matplotlib.pyplot.plot.html) function from matplotlib.pyplot. In addition to the original data, we can use various functions (see the tips below) to smooth/low-pass filter the data prior to plotting. For an alternative plot use the [bar](https://matplotlib.org/stable/api/_as_gen/matplotlib.pyplot.bar.html) function.\n",
    "\n",
    "<font color='orange'>**!! Q2** : Run the code below to make a plot of the SOI Index. Complete the following:</font>\n",
    "- <font color='orange'>Try adjusting the running mean window to different values (see the variable *N*)</font>\n",
    "- <font color='orange'>Add axis labels, and label the lines in the legend$^3$</font>\n",
    "- <font color='orange'>Add a zero line (see [axhline](https://matplotlib.org/stable/api/_as_gen/matplotlib.pyplot.axhline.html))</font>\n",
    "</font>\n",
    "\n",
    "Some additional tips/pointers:\n",
    "- Many built-in functions for Pandas can be performed on your target dataframe (hereafter refered to as \"**df**\") using the following syntax: df.function(arguments). For example, rather than using <font color='blue'>ax.plot(df_soi.time,df_soi.soi)</font>, you can use the method shown below.\n",
    "- To apply a running mean in Pandas, we used <font color='blue'>df.rolling(N,center=True).mean()</font>. The [df.rolling()](https://pandas.pydata.org/docs/reference/api/pandas.DataFrame.rolling.html) function groups the data in moving windows of size N, then [.mean()](https://pandas.pydata.org/docs/reference/api/pandas.DataFrame.mean.html) takes the mean over each group.$^3$\n",
    "- To design/apply a low-pass filter, you can use functions in [scipy.signal](https://docs.scipy.org/doc/scipy/reference/signal.html). For example, given the sampling frequency, you could design a Butterworth filter using [signal.butter](https://docs.scipy.org/doc/scipy/reference/generated/scipy.signal.butter.html), then apply the filter using [signal.filtfilt](https://docs.scipy.org/doc/scipy/reference/generated/scipy.signal.filtfilt.html)\n",
    "\n",
    "<font size=\"1.5\">[3]: By default, Pandas uses the column label as the plotting label. You can adjust this with the argument \"label\" to df.plot().</font>\n",
    "<br />\n",
    "<font size=\"1.5\">[4]: To take a running mean on a NumPy array, you can use [scipy.ndimage.uniform_filter1d()](https://docs.scipy.org/doc/scipy/reference/generated/scipy.ndimage.uniform_filter1d.html). Note that the \"mode\" argument for how the function treats edge cases.</font>"
   ]
  },
  {
   "cell_type": "code",
   "execution_count": null,
   "id": "4130918c-888a-4895-99cf-2ea6f73ac8c5",
   "metadata": {},
   "outputs": [],
   "source": [
    "# Take N-month running mean\n",
    "N                     = 12         # Number of months to take mean over (try adjusting this!)\n",
    "df_soi[\"soi_runmean\"] = df_soi[\"soi\"].rolling(N,center=True).mean()\n",
    "#print(df_soi)                     # Print to see the column"
   ]
  },
  {
   "cell_type": "code",
   "execution_count": null,
   "id": "logical-endorsement",
   "metadata": {},
   "outputs": [],
   "source": [
    "# Set up some arrays for plotting\n",
    "\n",
    "# Initialize Plot\n",
    "fig,ax = plt.subplots(1,1,figsize=(12,4))\n",
    "\n",
    "# Make Plot\n",
    "df_soi.plot(x='time', y='soi', linewidth=0.7,color='gray', ax=ax,label=\"ADD LABEL HERE\")  # Plot original soi index\n",
    "df_soi.plot(x='time', y='soi_runmean',color='k', ax=ax,label=\"ADD LABEL HERE\")            # Plot smoothed index\n",
    "\n",
    "# Your Code to Add a legend,labels, and zero-line goes here!\n",
    "# ax.axhline(0,color='k',lw=0.75,ls='dashed')                                              # horizontal zero-line\n",
    "# ax.set_title(\"Monthly SOI Index from %s to %s\" %(df_soi.time[0],df_soi.time[0][-1]))\n",
    "# ax.set_xlabel(\"Time\")\n",
    "# ax.set_ylabel(\"SOI Index\")"
   ]
  },
  {
   "cell_type": "markdown",
   "id": "82a635d8-54a2-40b1-b632-f9797189161e",
   "metadata": {},
   "source": [
    "Note that the plot above is very basic. With a little bit of effort, we can often make a plot \n",
    "much more comprehensible and visually appealing. \n",
    "\n",
    "\n",
    "See the example below, where we use the <font color=\"blue\">cvd.plot_anomaly()</font> function, which uses the matplotlib function [ax.fill_between](https://matplotlib.org/stable/api/_as_gen/matplotlib.axes.Axes.fill_between.html) to color positive and negative anomalies. You can open the <font color=\"magenta\">cvd_utils.py</font> file to inspect the code for further details.\n"
   ]
  },
  {
   "cell_type": "code",
   "execution_count": null,
   "id": "537c2a00-f82e-4d39-b601-2445edba2b23",
   "metadata": {},
   "outputs": [],
   "source": [
    "fig,ax  = plt.subplots(1,1,figsize=(12,4))\n",
    "ax      = cvd.plot_anomaly(df_soi.time,df_soi.soi,ax=ax,xlabfreq=60) # Label every 60 months (5 yrs)"
   ]
  },
  {
   "cell_type": "markdown",
   "id": "bbe42b07-30cd-4586-b99c-7e84e09992d5",
   "metadata": {},
   "source": [
    "## <font color='green'>Histogram</font>\n",
    "\n",
    "Next, we will plot a histogram of the index. \n",
    "\n",
    "<font color='orange'>**!! Q3 -** *Give a short explanation of what the histogram tells us about the data. Try adding a \"bins\" argument to [ax.hist()](https://matplotlib.org/stable/api/_as_gen/matplotlib.pyplot.hist.html) and choose a bin size that you think is most suitable.*</font>\n"
   ]
  },
  {
   "cell_type": "code",
   "execution_count": null,
   "id": "f63a7d7f-aab0-4b97-94e1-bd1751a44838",
   "metadata": {},
   "outputs": [],
   "source": [
    "fig,ax = plt.subplots(1,1)\n",
    "counts,bin_edges,patches=ax.hist(df_soi.soi)\n",
    "ax.grid(True,ls='dotted')"
   ]
  },
  {
   "cell_type": "code",
   "execution_count": null,
   "id": "b66a5632-3a86-44aa-9307-0568ba3c9ead",
   "metadata": {},
   "outputs": [],
   "source": [
    "\"\"\"\n",
    "Write your answer here:\n",
    "\n",
    "\n",
    "\"\"\""
   ]
  },
  {
   "cell_type": "markdown",
   "id": "81f74e06-a94f-4611-8ed7-585476d4a982",
   "metadata": {},
   "source": [
    "## <font color='green'>Sea Surface Temperature (SST) Data and the netCDF Format</font>\n",
    "\n",
    "We will now load in and work with monthly mean SST data from the Optimum Interpolation SST (OISST) dataset (https://psl.noaa.gov/data/gridded/data.noaa.oisst.v2.highres.html). The data is on a 1/4 degree global grid, and we will be working with a subset between 1982 and 2020.\n",
    "\n",
    "One of the most common formats you will encounter while working with Climate data is the netCDF format (https://www.unidata.ucar.edu/software/netcdf/). These files can store/compress numerous types of multi-dimensional variables, and generally contain metadata that describes its contents in detail. \n",
    "\n",
    "In Python, a handy package to read/manage netCDF files is known as [xarray](http://xarray.pydata.org/en/stable/). This package is similar to Pandas, but built for handling multi-dimensional data beyond 2-dimensions. These are stored in objects known as [DataArrays](http://xarray.pydata.org/en/stable/generated/xarray.DataArray.html) or [Datasets](http://xarray.pydata.org/en/stable/generated/xarray.Dataset.html) (for multiple DataArrays). You might think of these as multi-dimensional equivalents to Pandas Series and Dataframes, and the syntax of slicing/selecting data is very similar.\n",
    "\n",
    "Let's begin by reading our netCDF file's contents into an xarray Dataset:"
   ]
  },
  {
   "cell_type": "code",
   "execution_count": null,
   "id": "78904f5b-1076-470e-86a0-8d9f22a9584a",
   "metadata": {},
   "outputs": [],
   "source": [
    "ds = xr.open_dataset(\"sst.mon.mean_1982.01-2020.12.nc\")\n",
    "\n",
    "# Print the dataset to see its attributes. Try expanding different sections. You can also type ds.info() for a plaintext display\n",
    "ds"
   ]
  },
  {
   "cell_type": "markdown",
   "id": "05a1f52b-b1ca-44a1-89d7-ad10179a88f5",
   "metadata": {},
   "source": [
    "A properly documented netCDF generally has information on the variable names, units, dimensions, and other attributes. While Pandas Dataframes have labeled columns and indexes, Datasets and DataArrays have named dimensions, with corresponding values stored in the 'coordinates'. Label-based indexing can be useful as you don't have to explicitly remember the axis or dimension, and can take slices of data with slightly more intuitive syntax. See the example below, and check out this guide on [indexing and slicing in xarray](https://xarray.pydata.org/en/v0.8.0/indexing.html)."
   ]
  },
  {
   "cell_type": "code",
   "execution_count": null,
   "id": "acbb6fd7-5525-4251-9c10-af6bc464eac6",
   "metadata": {},
   "outputs": [],
   "source": [
    "# Quickly plot SST in the Equatorial Pacific\n",
    "ds.sst.sel(lon=slice(100,300),lat=slice(-15,15)).isel(time=23).plot(figsize=(14,2),cmap=\"copper\")"
   ]
  },
  {
   "cell_type": "markdown",
   "id": "73474a8d-8966-4777-96c1-9d23d3613eef",
   "metadata": {},
   "source": [
    "For the rest of the tutorial, we will load the variables we want (sst, longitude, latitude, time) into NumPy arrays. However, many NumPy operations can also be applied to DataArrays and Datasets. Just as Pandas has many convenient, higher-level functions, xarray shares many of these same methods (I find <font color=\"blue\">.groupby()</font> to be pretty useful for organizing and reshaping temporal data, if you have a formatted time coordinate)).\n"
   ]
  },
  {
   "cell_type": "code",
   "execution_count": null,
   "id": "1ad7403f-cd28-4ebd-b4c8-02219cc7a3a8",
   "metadata": {},
   "outputs": [],
   "source": [
    "%%time \n",
    "#The built-in command above times the execution of the cell.\n",
    "\n",
    "# Load into NumPy arrays (might take a bit...)\n",
    "sstout = ds.sst.values\n",
    "time   = ds.time.values\n",
    "lon    = ds.lon.values\n",
    "lat    = ds.lat.values\n",
    "\n",
    "# Check the shape of the variable\n",
    "print(sstout.shape)\n",
    "print(time.shape)\n",
    "print(lon.shape)\n",
    "print(lat.shape)"
   ]
  },
  {
   "cell_type": "markdown",
   "id": "a7b772ea-b2ee-4542-988f-1f01d76cfdad",
   "metadata": {},
   "source": [
    "Let's take a closer look at the time variable, which is given in decimal years (same as the SOI Index)"
   ]
  },
  {
   "cell_type": "code",
   "execution_count": null,
   "id": "f12ddcc7-70d7-4b3a-a03f-2e25c803b232",
   "metadata": {},
   "outputs": [],
   "source": [
    "time[0]"
   ]
  },
  {
   "cell_type": "markdown",
   "id": "fcc84967-3b2c-478c-8122-25896effce01",
   "metadata": {},
   "source": [
    "This means 1982 plus 0.041095 years\n",
    "\n",
    "<font color='orange'>**!! Q4 -** *What is 0.041095 years in days, and what day of the year are the 2nd and 3rd times taken?*</font>\n"
   ]
  },
  {
   "cell_type": "code",
   "execution_count": null,
   "id": "b32e3878-4ee8-4fb4-bce1-f742c11afdb2",
   "metadata": {},
   "outputs": [],
   "source": [
    "\"\"\"\n",
    "Type your answer here\n",
    "\n",
    "\"\"\""
   ]
  },
  {
   "cell_type": "markdown",
   "id": "0f5466e5-560e-4d29-a2f1-6906656401f9",
   "metadata": {},
   "source": [
    "One useful operation to familiarize yourself with is [np.transpose()](https://numpy.org/doc/stable/reference/generated/numpy.transpose.html), which swaps the orders of the dimensions. For example, the sstout variable is currently [time x latitude x longitude]. . Run the section below to change it to [time x longitude x latitude]:"
   ]
  },
  {
   "cell_type": "code",
   "execution_count": null,
   "id": "f778c68b-2aa2-4e1e-a8f8-4686bbcc7193",
   "metadata": {},
   "outputs": [],
   "source": [
    "# You can also do np.transpose(sstout,(0,2,1)). The second argument indicates that new order of the original dimensions.\n",
    "sst = sstout.transpose(0,2,1)\n",
    "sstout.shape,sst.shape"
   ]
  },
  {
   "cell_type": "markdown",
   "id": "4cf43337-56e0-4a03-b4e6-75f173f8a1ad",
   "metadata": {},
   "source": [
    "## <font color='green'>Plotting SST</font>\n",
    "\n",
    "We will now create map plots to show 2-D data. The easiest way to do this is using the [pcolormesh](https://matplotlib.org/stable/api/_as_gen/matplotlib.pyplot.pcolormesh.html) command$^5$. If you get an error message that the dimensions do not agree, you can add \".T\" after a 2-D array (<font color='blue'>array_name.T</font>) to transpose the sst array.$^6$\n",
    "\n",
    "<font size=\"1.5\">[5]: This is similar to the pcolor command, but works a bit faster. More detailed discussion available [here](https://matplotlib.org/stable/api/_as_gen/matplotlib.pyplot.pcolormesh.html#differences-pcolor-pcolormesh).</font>\n",
    "<br />\n",
    "<font size=\"1.5\">[6]: Note that [np.squeeze()](https://numpy.org/doc/stable/reference/generated/numpy.squeeze.html) is not necessary here, as the singleton time dimension is dropped when indexing with an integer. If you index with a list instead, (ex. <font color='blue'>sst[[0],:,:]</font>), the time dimension is preserved (<font color='blue'>sst.shape = (1, 360, 120)</font>), and the squeeze() operation will be necssary to plot.</font>"
   ]
  },
  {
   "cell_type": "code",
   "execution_count": null,
   "id": "d92df010-18d2-4ae0-b668-ed1efc102949",
   "metadata": {},
   "outputs": [],
   "source": [
    "# Plot SST at the first timestep (remember time is the first dimension)\n",
    "fig,ax = plt.subplots(1,1,figsize=(14,6))\n",
    "pcm    = ax.pcolormesh(lon,lat,sst[0,:,:].T,\n",
    "                       edgecolors=None,shading='nearest',\n",
    "                       cmap=\"magma\")\n",
    "fig.colorbar(pcm,ax=ax)"
   ]
  },
  {
   "cell_type": "markdown",
   "id": "bc988a17-85fa-4921-9474-839bc1cd1472",
   "metadata": {},
   "source": [
    "<font color='orange'>**!! Q5 -** *What do the \"**edgecolors**\" and \"**shading**\" arguments within pcolormesh do?*</font>"
   ]
  },
  {
   "cell_type": "code",
   "execution_count": null,
   "id": "028c27a0-fa96-4bb6-9741-bf893b76d476",
   "metadata": {},
   "outputs": [],
   "source": [
    "\"\"\"\n",
    "Type your answer here:\n",
    "\n",
    "\"\"\""
   ]
  },
  {
   "cell_type": "markdown",
   "id": "b7712e25-845a-4600-bc12-f32b14c6e939",
   "metadata": {},
   "source": [
    "<font color='orange'>**!! Q6 -** *Your next task is to plot the time-mean SST. To do this, take an average across the time dimension for the sst matrix. (Hint: You will need to average across all times, i.e. the first dimension of the sst matrix. Look at the [np.mean()](https://numpy.org/doc/stable/reference/generated/numpy.mean.html) function)*</font>\n",
    "- <font color='orange'>Add title, labels, colorbar, etc.</font>\n",
    "- <font color='orange'>Also [add a label](https://matplotlib.org/stable/api/_as_gen/matplotlib.pyplot.colorbar.html) to the colorbar. (Hint: check the properties of the colorbar object.)</font>\n",
    "</font>"
   ]
  },
  {
   "cell_type": "code",
   "execution_count": null,
   "id": "ac27f33e-ae64-44e9-9355-d1cb65c85043",
   "metadata": {},
   "outputs": [],
   "source": [
    "## Write your code to plot the time-mean SST here\n"
   ]
  },
  {
   "cell_type": "markdown",
   "id": "aeb933c8-e1ce-47f5-84f4-35771631609a",
   "metadata": {},
   "source": [
    "## <font color=\"green\"> Making an Interactive SST Animation</font>\n",
    "\n",
    "Below, we make a small interactive (animated) plot with [hvplot](https://hvplot.holoviz.org/#), a package that works with both Pandas and Xarray. This package is great for exploring datasets using interactive widgets. We will thus return temporarily to working with the Dataset we loaded in previously."
   ]
  },
  {
   "cell_type": "code",
   "execution_count": null,
   "id": "d843b0e0-0e93-4d64-8448-ee29be244e40",
   "metadata": {},
   "outputs": [],
   "source": [
    "# Plot interactive timeslices with a slider\n",
    "slider = pnw.IntSlider(name='time', start=0, end=10)\n",
    "ds.sst.interactive().isel(time=slider).hvplot(cmap=\"bone\")"
   ]
  },
  {
   "cell_type": "code",
   "execution_count": null,
   "id": "7d12690d-ff69-414f-9611-95d7e715ff79",
   "metadata": {},
   "outputs": [],
   "source": [
    "# Make a small animation from time[start] to time[end]\n",
    "# Press the buttons on the widget to start the animation.\n",
    "# Hover your cursor over small sections to see the values.\n",
    "atime = pnw.Player(name='time', start=0, end=300, loop_policy='loop', interval=300)\n",
    "ds.sst.interactive(loc='bottom').isel(time=atime).hvplot(cmap='magma')"
   ]
  },
  {
   "cell_type": "markdown",
   "id": "e15b8ee1-04b6-43a5-82a3-fe18ab16970b",
   "metadata": {},
   "source": [
    "When you examine the animation above, you might notice that the colorbar limits change, making it hard to interpret what we see.\n",
    "- Try adding <font color='blue'>\"clim=(lower_bnd,upper_nbd)\"</font> as an argument to <font color='blue'>hvplot()</font> above.\n",
    "- Try adding a title that indicates the time to the plot above.\n",
    "\n",
    "For the remainder of the tutorial, the exercises will use NumPy arrays. However, feel free to experiment by doing the same tasks with xarray and/or hvplot.\n"
   ]
  },
  {
   "cell_type": "markdown",
   "id": "e5959917-e04d-4454-82c2-19e36546afdd",
   "metadata": {},
   "source": [
    "## <font color='green'>Plotting the seasonal cycle</font>\n",
    "\n",
    "In the next step, we will look at the seasonal cycle of SST. For this we need to index all Januaries, all Februarys etc and then average. \n",
    "\n",
    "Note that in NumPy, one can index (or \"slice\") along a dimension using the syntax: \"[start:stop:step]\".  Two important points to recall from the Intro to Python tutorial are that:\n",
    "1. If the start/stop is not specified, the first/last index is used\n",
    "2. The stop index is not included in the slice.\n",
    "\n",
    "For example, to plot the mean SST for all Februarys you could do:"
   ]
  },
  {
   "cell_type": "code",
   "execution_count": null,
   "id": "9f60d5e9-513f-4644-9493-281cc67d5b4c",
   "metadata": {},
   "outputs": [],
   "source": [
    "# Plot mean Feb. SST\n",
    "fig,ax = plt.subplots(1,1,figsize=(14,6))\n",
    "\n",
    "# Note that in python slicing expressed as [start:stop:step].\n",
    "# Two important points:\n",
    "#  1. If start/stop isn't specified, the first/last index is used.\n",
    "#  2. The stop index is not included.\n",
    "pcm    = ax.pcolormesh(lon,lat,sst[1::12,:,:].mean(0).T,\n",
    "                       edgecolors=None,shading='nearest',\n",
    "                       cmap=\"inferno\")\n",
    "\n",
    "cb = fig.colorbar(pcm,ax=ax)\n",
    "cb.set_label(\"SST (degC)\")\n",
    "ax.set_title(\"Mean February SST\")\n",
    "ax.set_xlabel(\"Longitude\")\n",
    "ax.set_ylabel(\"Latitude\")"
   ]
  },
  {
   "cell_type": "markdown",
   "id": "8154bbdb-bcfa-4204-a279-de75fc63c7a6",
   "metadata": {},
   "source": [
    "<font color='orange'>**!! Q7 -** *Write a loop to plot the **mean SST for each month**. The loop should\\:* </font>\n",
    "\n",
    "- <font color='orange'>Include a title that indicates the current month </font> (Hint: you can use <font color='blue'>str()</font> to convert a number/index to a string.)\n",
    "- <font color='orange'> Label all axes</font>\n",
    "- <font color='orange'>Include a colorbar with consistent coloraxis limits</font> (Hint: You can control the colormap limits with the \"**vmin**\" and \"**vmax**\" arguments in [pcolormesh()](https://matplotlib.org/stable/api/_as_gen/matplotlib.pyplot.pcolormesh.html).)\n"
   ]
  },
  {
   "cell_type": "code",
   "execution_count": null,
   "id": "a1743f75-2946-4936-96a2-18f5dab1841a",
   "metadata": {},
   "outputs": [],
   "source": [
    "# Write your loop here"
   ]
  },
  {
   "cell_type": "markdown",
   "id": "d81349ae-d769-4c88-b2f4-00092dcd5a58",
   "metadata": {},
   "source": [
    "These 12 monthly averages are called a **climatology of SST** (i.e. average temperature for Jan, Feb, ...). We can create a new variable that contains the SST climatology:\n"
   ]
  },
  {
   "cell_type": "code",
   "execution_count": null,
   "id": "40d75929-d9de-481a-8e49-21ee0d8307dc",
   "metadata": {},
   "outputs": [],
   "source": [
    "%%time\n",
    "# Preallocate an Array\n",
    "ntime,nlon,nlat = sst.shape\n",
    "climSST = np.zeros((12,nlon,nlat))*np.nan\n",
    "for m in range(12):\n",
    "    climSST[m,:,:] = sst[m::12,:,:].mean(0)\n",
    "print(climSST.shape)"
   ]
  },
  {
   "cell_type": "markdown",
   "id": "234b3df2-7a8e-4b6f-8ce0-63f6469e005b",
   "metadata": {},
   "source": [
    "We can see that the new variable has the dimensions (month,longitude,latitude).\n",
    "\n",
    "NOTE: One way to compute the climatology when without looping is to \"reshape\" the matrix, unstacking the timeseries into year x month dimensions. This tends to work when you have the full 12-months of data for multiple years.\n",
    "\n",
    "See below for an example:"
   ]
  },
  {
   "cell_type": "code",
   "execution_count": null,
   "id": "8f7d6d1d-81bd-436c-9169-e5db089f3a67",
   "metadata": {},
   "outputs": [],
   "source": [
    "%%time\n",
    "nyrs = int(ntime/12) # If ntime is not divisible by 12, method below will not work\n",
    "sst_mon      = sst.reshape(nyrs,12,nlon,nlat) # Reshape to (year, month, lon, lat)\n",
    "climSST2 = sst_mon.mean(0) # Take mean along year dimension."
   ]
  },
  {
   "cell_type": "code",
   "execution_count": null,
   "id": "c53efce8-9166-439f-8420-fea24987449f",
   "metadata": {},
   "outputs": [],
   "source": [
    "# Check both methods are exactly the same by looking at the max absolute difference\n",
    "np.nanmax(np.abs(climSST2-climSST)) # nanmax ignores NaN values."
   ]
  },
  {
   "cell_type": "markdown",
   "id": "5fea05b9-6a6e-4a83-b496-dab533a3a3ee",
   "metadata": {},
   "source": [
    "Rather than plotting each month in individual figures, we can plot them all in one plot.\n",
    "See below for an example:"
   ]
  },
  {
   "cell_type": "code",
   "execution_count": null,
   "id": "18953b19-347f-451d-84d8-78420f006634",
   "metadata": {},
   "outputs": [],
   "source": [
    "# The first 2 arguments indicate # of subplots in (row,col) \n",
    "fig,axs = plt.subplots(4,3,figsize=(14,14)) \n",
    "for m in range(12):\n",
    "    ax  = axs.flatten()[m] # Flatten axs so it's easier to index\n",
    "    pcm = ax.pcolormesh(lon,lat,climSST[m,:,:].T,vmin=0,vmax=30,shading='nearest')\n",
    "    ax.set_title(\"Month %i\" % (m+1))\n",
    "\n",
    "# Add shared colorbar. Use pad and fraction to adjust its position\n",
    "fig.colorbar(pcm,ax=axs.ravel(),orientation=\"horizontal\",pad=-.8,fraction=0.3)\n",
    "\n",
    "# Add subplot title (needs further adjustment so that it doesnt overlap)\n",
    "plt.suptitle(\"Monthly Climatological SST\")\n",
    "\n",
    "# Automatically resizes all plots (does not play nice with shared colorbar... :()\n",
    "plt.tight_layout()"
   ]
  },
  {
   "cell_type": "markdown",
   "id": "c793ce49-a2de-4763-b47f-f1ca9da8d3ff",
   "metadata": {},
   "source": [
    "## <font color='green'>SST Anomalies</font>\n",
    "\n",
    "The climatology tells us what temperature we might expect in each month on average. But, of course, in any given month it could be warmer or colder than the long-term average. The difference is called an **anomaly**.\n",
    "\n",
    "Next, we produce a variable that contains SST anomalies, i.e. the difference between SST at a given month and the SST climatology. This tells us how much hotter or colder than normal temperature is for each month.\n",
    "\n",
    "To do this we need to get the SST for a particular month and subtract the corresponding climatological SST for that month. For example:"
   ]
  },
  {
   "cell_type": "code",
   "execution_count": null,
   "id": "d0ddd2c8-ffa9-45b0-a07a-202f58fa6559",
   "metadata": {},
   "outputs": [],
   "source": [
    "sst[0,:,:]      # SST for January 1961\n",
    "climSST[0,:,:]  # Avg SST for all Januarys\n",
    "\n",
    "# SST anomaly for Jan 1961\n",
    "ssta_1961_1 = sst[0,:,:] - climSST[0,:,:]\n",
    "\n",
    "# SST anomaly for Jan 1962\n",
    "ssta_1962_1 = sst[12,:,:] - climSST[0,:,:]"
   ]
  },
  {
   "cell_type": "markdown",
   "id": "9e46351b-7eef-478b-8975-676ffdb0064f",
   "metadata": {},
   "source": [
    "Of course, we don't want to type all this code. \n",
    "There are several ways you can do these kind of calculations. This will, in the end,\n",
    "depend on your way of thinking and programming style. See below for two examples, which have been timed using cellmagic <font color='magenta'>%%time</font>$^7$ :\n",
    "\n",
    "<font size=\"1.5\">[7]: Disclaimer: does not account for the time it takes to reshape arrays, and may not scale to larger operations. It can be fun to try different methods/packages/functions to see what suits your workflow and data.</font>"
   ]
  },
  {
   "cell_type": "code",
   "execution_count": null,
   "id": "7ba34805-f08d-49cc-9819-4911b4b1f4a2",
   "metadata": {},
   "outputs": [],
   "source": [
    "%%time\n",
    "# Example Method 1: Using a loop\n",
    "# Preallocate array of NaNs\n",
    "anomSST = np.ones(sst.shape)*np.nan\n",
    "for m in range(12):\n",
    "    anomSST[m::12,:,:] = sst[m::12,:,:] - climSST[m,:,:]"
   ]
  },
  {
   "cell_type": "code",
   "execution_count": null,
   "id": "69a821da-6c9e-4df6-9886-1b5f3c498f42",
   "metadata": {},
   "outputs": [],
   "source": [
    "%%time\n",
    "# Example Method 2: Using array broadcasting, and our earlier reshaped arrays\n",
    "anomSST2 = sst_mon - climSST2[None,:,:,:] # Add a singleton axis for year for climSST2\n",
    "anomSST2 = anomSST2.reshape(ntime,nlon,nlat) # Reshape back to (time x lon x lat)\n",
    "# NumPy will then automatically duplicate or broadcast climSST2 \"nyr\" times."
   ]
  },
  {
   "cell_type": "code",
   "execution_count": null,
   "id": "87d11439-ba73-47f6-beaf-379fc423aa07",
   "metadata": {},
   "outputs": [],
   "source": [
    "# Check they are the same (max abs. difference)\n",
    "np.nanmax(np.abs(anomSST2.flatten()-anomSST.flatten()))"
   ]
  },
  {
   "cell_type": "markdown",
   "id": "f452db72-d646-44af-a3a0-cef19ed0dc68",
   "metadata": {},
   "source": [
    "### <font color=\"green\">Plotting SST Anomalies</font>\n",
    "Let's plot to see if the code works!"
   ]
  },
  {
   "cell_type": "code",
   "execution_count": null,
   "id": "76bed506-3d74-4607-8e59-eadd3539a0f8",
   "metadata": {},
   "outputs": [],
   "source": [
    "fig,ax = plt.subplots(1,1,figsize=(14,6))\n",
    "pcm = ax.pcolormesh(lon,lat,anomSST2[0,:,:].T,\n",
    "                    cmap=cmocean.cm.balance,shading='nearest',vmin=-3,vmax=3)\n",
    "cb = fig.colorbar(pcm,ax=ax)\n",
    "cb.set_label(\"SST ($\\degree C$)\")\n",
    "ax.set_title(\"January SST Anomalies\")\n",
    "ax.set_xlabel(\"Lon\")\n",
    "ax.set_ylabel(\"Lat\")"
   ]
  },
  {
   "cell_type": "markdown",
   "id": "177aa398-0293-499c-8376-e4aa90fefb2e",
   "metadata": {},
   "source": [
    "<font color='orange'>**!! Q8 -** *Describe the SST Anomalies!* </font>"
   ]
  },
  {
   "cell_type": "code",
   "execution_count": null,
   "id": "f012fbd2-c9f9-413a-819f-a2879b52ba77",
   "metadata": {},
   "outputs": [],
   "source": [
    "\"\"\"\n",
    "Write your answer here\n",
    "\n",
    "\"\"\""
   ]
  },
  {
   "cell_type": "markdown",
   "id": "7fae4a13-4935-4743-b1c5-6e4e19974b0e",
   "metadata": {},
   "source": [
    "### <font color=\"green\">Comparing SST with SOI</font>\n",
    "\n",
    "Now we can investigate the relationship between SST and SOI.\n",
    "\n",
    "Lets choose a date, where the SOI is in a negative phase and plot the sst anomalies. For this you can use the function findnearestval that was provided together with this tutorial. Here is an example:\n"
   ]
  },
  {
   "cell_type": "code",
   "execution_count": null,
   "id": "7b40daaf-2c45-4c35-88a6-223366f6d7c8",
   "metadata": {},
   "outputs": [],
   "source": [
    "# lets find the index for sst anomaly in Janaury 1998\n",
    "index = cvd.findnearestval(time,1998)\n",
    "print(index)"
   ]
  },
  {
   "cell_type": "code",
   "execution_count": null,
   "id": "4d643454-2996-4979-b397-87527df723d2",
   "metadata": {},
   "outputs": [],
   "source": [
    "# test to see if the index represents the time you want\n",
    "time[index]"
   ]
  },
  {
   "cell_type": "code",
   "execution_count": null,
   "id": "724a2ddc-7b6f-481d-a1c4-04be3c607f44",
   "metadata": {},
   "outputs": [],
   "source": [
    "# Let's plot the SST Field\n",
    "fig,ax = plt.subplots(1,1,figsize=(10,4))\n",
    "pcm = ax.pcolormesh(lon,lat,anomSST2[index,:,:].T,\n",
    "                    cmap=cmocean.cm.balance,shading='nearest',vmin=-3,vmax=3)\n",
    "cb = fig.colorbar(pcm,ax=ax)\n",
    "cb.set_label(\"SST ($\\degree C$)\")\n",
    "ax.set_title(\"SST Anomalies %4.3f\" % (time[index])) # Using the module \"%\"\n",
    "# is one (older) way you can set and format strings based on input variables.\n",
    "ax.set_xlabel(\"Lon\")\n",
    "ax.set_ylabel(\"Lat\")"
   ]
  },
  {
   "cell_type": "markdown",
   "id": "169ad7c4-a5e1-4cfa-83ed-1575022c3e47",
   "metadata": {},
   "source": [
    "<font color='orange'>**!! Q9** *Pick another date where SOI was in a positive phase</font>\n",
    "- <font color='orange'>Plot both maps in one figure (incl. the one above), using subplots.</font>\n",
    "- <font color='orange'>Give a short description of what you see and compare the positive and negative phases.</font>"
   ]
  },
  {
   "cell_type": "code",
   "execution_count": null,
   "id": "33e69d87-cf8d-43ec-b7f4-9aefcb5c78f4",
   "metadata": {},
   "outputs": [],
   "source": [
    "# Write your code here"
   ]
  },
  {
   "cell_type": "code",
   "execution_count": null,
   "id": "8ec7ea6d-9cf0-47a1-a852-3654efeeba56",
   "metadata": {},
   "outputs": [],
   "source": [
    "\"\"\"\n",
    "Write your short description here\n",
    "\n",
    "\"\"\""
   ]
  },
  {
   "cell_type": "markdown",
   "id": "e70a092d-8ec7-4653-9cc5-6e3e85840623",
   "metadata": {},
   "source": [
    "Now we can look at the SST anomaly at particular locations.\n",
    "\n",
    "Find the index of the latitude closest to the equator and longitude closest to 240E.\n",
    "(Hint: Use <font color='blue'>cvd.findnearestval</font>.)"
   ]
  },
  {
   "cell_type": "code",
   "execution_count": null,
   "id": "4328ad92-4651-4915-8688-77898e3fcc33",
   "metadata": {},
   "outputs": [],
   "source": [
    "# lat_0 = ...\n",
    "# lon_240 = ...\n"
   ]
  },
  {
   "cell_type": "code",
   "execution_count": null,
   "id": "1b9cc41c-7c1e-4ef2-a5c8-d2074743b77e",
   "metadata": {},
   "outputs": [],
   "source": [
    "# Create an anomaly timeseries at this particular point\n",
    "# anomSST_0_240E = ..."
   ]
  },
  {
   "cell_type": "markdown",
   "id": "c45ee045-9863-4765-b48b-6adc7ad8dded",
   "metadata": {},
   "source": [
    "<font color='orange'>**!! Q10 -** Create a 2 panel figure, with the top panel showing the SOI timeseries and the bottom panel showing the anomaly timeseries that we just derived.</font>\n",
    "- <font color='orange'>Add a 6-month moving average/ low-pass filter on top of both time series</font>\n",
    "- <font color='orange'>OPTIONAL: You can also try to create an additional figure using the anomaly (see above) again.</font>"
   ]
  },
  {
   "cell_type": "code",
   "execution_count": null,
   "id": "d1aefcb7-44a3-4e24-8718-332597bc31a0",
   "metadata": {},
   "outputs": [],
   "source": [
    "# Write your code here\n"
   ]
  },
  {
   "cell_type": "markdown",
   "id": "185e329e-ecbd-46ee-8e15-4d4b6b7518c3",
   "metadata": {},
   "source": [
    "<font color='orange'>**!! Q11 -** Plot a scatterplot of SOI versus your anomaly time series.</font>\n",
    "- <font color='orange'>Give a short explanation what this plot tells you</font>\n",
    "- <font color='orange'>Try fitting a trend line. Check out [np.polyfit](https://numpy.org/doc/stable/reference/generated/numpy.polyfit.html). SciPy and other packages have trend-fitting functions as well.</font>"
   ]
  },
  {
   "cell_type": "code",
   "execution_count": null,
   "id": "ce722a34-3f2b-4551-9486-61b33bc0456c",
   "metadata": {},
   "outputs": [],
   "source": [
    "# Make your plot here"
   ]
  },
  {
   "cell_type": "code",
   "execution_count": null,
   "id": "0f637f2a-751d-44af-93dc-7d216e792b1c",
   "metadata": {},
   "outputs": [],
   "source": [
    "\"\"\"\n",
    "Write your answer here\n",
    "\n",
    "\"\"\""
   ]
  },
  {
   "cell_type": "markdown",
   "id": "37af0b48-ac26-425f-95ae-718320a27986",
   "metadata": {},
   "source": [
    "As a final step we can calculate the correlation between the SOI and anomSST_0_240E and the associated p-value. For those of you who haven't done much statistics, look up what the p-value means. It is extremely important in science for testing hypotheses."
   ]
  },
  {
   "cell_type": "code",
   "execution_count": null,
   "id": "b686a89b-f880-436d-90df-6a6fa6db3271",
   "metadata": {},
   "outputs": [],
   "source": [
    "r,p = stats.pearsonr(df_soi.soi,anomSST_0_240E)\n",
    "print(\"The correlation coefficient is %f\" % r)\n",
    "print(\"The p-value is %e\" % p)"
   ]
  },
  {
   "cell_type": "markdown",
   "id": "4cdf697f-fa7e-4c5d-982c-9e15bfaf6337",
   "metadata": {},
   "source": [
    "## <font color='orange'>Your Report</font>\n",
    "\n",
    "Your final report should only contain the important plots. You may want to create two files: one for yourself that includes everything above and one for submission that only includes the relevant material. This should include:\n",
    "\n",
    "- a plot of the SOI (and maybe a histogram plot)\n",
    "- plot of mean SST\n",
    "- plot of the seasonal cycle of SST\n",
    "- plot the SST anomaly in January 1998 and at a time when the SOI was in a different phase\n",
    "- scatterplot between SOI and the SST anomaly at 240E on the equator\n",
    "- all answers to questions asked throughout (including Q12 below).\n",
    "\n",
    "**Remember labels etc. and figure captions.**\n",
    "\n",
    "<font color='orange'>**!! Q12** - Give a brief description of El Nino and La Nina SST and how these relate to the SOI (max 300 words)</font>\n",
    "\n",
    "The above are recommended plots but you are free to play with the data and produce whatever plots you think might be interesting for linking the SOI and SST."
   ]
  },
  {
   "cell_type": "markdown",
   "id": "92c96012-6aae-42fd-b6d1-c27f7abef8c5",
   "metadata": {},
   "source": [
    "## Optional extras (unmarked)\n",
    "\n",
    "For those of you who are after a challenge or who who think they will use Python in the future, here are some extra things you could try:\n",
    "\n",
    "1. Write a code that will plot a map of the seasonal range in SST (i.e. the difference between the maximum and minimum climatological SST)\n",
    "\n",
    "2. Find all the dates when the SOI is big (e.g. > 1 standard deviation) and plot the average SST anomaly for these dates. Repeat for small values of the SOI. (This is called a composite analysis)\n",
    "\n",
    "3. Try using the contourf command instead of pcolor command. This can produce much cleaner figures\n",
    "\n",
    "4. The cvd.findearestval() function finds the location of the nearest value to a given value in a matrix. This is based on the following command: np.min(np.abs(time-2000)). Try it out and see how it works. Doing these calculations yourself without using an external function, makes your code more transparent."
   ]
  }
 ],
 "metadata": {
  "kernelspec": {
   "display_name": "Python 3 (ipykernel)",
   "language": "python",
   "name": "python3"
  },
  "language_info": {
   "codemirror_mode": {
    "name": "ipython",
    "version": 3
   },
   "file_extension": ".py",
   "mimetype": "text/x-python",
   "name": "python",
   "nbconvert_exporter": "python",
   "pygments_lexer": "ipython3",
   "version": "3.7.10"
  }
 },
 "nbformat": 4,
 "nbformat_minor": 5
}
