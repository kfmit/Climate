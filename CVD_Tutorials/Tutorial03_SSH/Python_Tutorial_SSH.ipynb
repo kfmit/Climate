{
 "cells": [
  {
   "cell_type": "markdown",
   "id": "dd6eceeb-777a-4fe2-a957-70e78931a3f1",
   "metadata": {},
   "source": [
    "## <font color='orange'>Tutorial 3 - Sea Surface Heights (SSH)</font>\n",
    "\n",
    "#### <font color='skyblue'>12.860 Climate Variability and Diagnostics (Fall 2021)</font>\n",
    "\n",
    "##### *This tutorial is based on the \"Matlab Tutorial SSH\" written by Svenja Ryan for 12.860, Fall 2019*\n",
    "\n",
    "What you will need (from Canvas):\n",
    "- drifters.mat\n",
    "- SSH_North_Atlantic_2010_2020.nc\n",
    "- SSH_Tropical_Eastern_Pacific_2010_2020.nc\n",
    "- cvd_utils.py\n",
    "\n",
    "Throughout this notebook, key tasks will be indicated as follows:\n",
    "\n",
    "<font color='orange'>**!! Q0 -** Look for tasks like these. There are 8 in this notebook.\n",
    "\n",
    "Please be sure to complete these tasks, as we will be checking for their  completion while marking.\n",
    "\n",
    "Work through the script, and export this as html and/or as pdf, which be your report in addition to the live script. For the final report that you hand in, only keep the important parts and delete the rest of the code.\n",
    "\n",
    "Please make sure that the file contains\n",
    "- Well-documented code\n",
    "- Answers to all the specified questions asked within the script\n",
    "- Your figures with proper labeling (i.e. axis and colorbar labels, as well as titles and legends (where needed). Add figure captions for each figure. They can be added as text in a cell below the figure.\n",
    "- Short descriptions on each of the figures and their interpretation, as specified within the notebook.\n",
    "\n",
    "Please include your name in the file name, e.g. <font color='magenta'>SSH_GlennLiu.ipynb</font>\n",
    "    \n",
    "Check the list at the end of the notebook for additional submission instructions. "
   ]
  },
  {
   "cell_type": "code",
   "execution_count": null,
   "id": "b764a6e9-5819-4441-bbe4-0aeada9afb88",
   "metadata": {},
   "outputs": [],
   "source": [
    "# Run this cell to import the necessary modules\n",
    "\n",
    "import pandas as pd\n",
    "import numpy as np\n",
    "import matplotlib.pyplot as plt\n",
    "import xarray as xr\n",
    "import cmocean # Colormaps for oceanography\n",
    "from tqdm.notebook import tqdm # Import progress bar\n",
    "import datetime as dt # For datetime conversions\n",
    "import glob\n",
    "\n",
    "# Mapping tools\n",
    "import cartopy\n",
    "import cartopy.crs as ccrs\n",
    "import cartopy.feature as cfeature\n",
    "\n",
    "# Filtering Functions\n",
    "from scipy import signal,ndimage,stats     # Filtering functions, stats\n",
    "from scipy.io import loadmat               # Loading matfiles\n",
    "\n",
    "# Interactive Plotting\n",
    "import hvplot.xarray\n",
    "import panel as pn\n",
    "import panel.widgets as pnw\n",
    "\n",
    "# Animation\n",
    "from matplotlib.animation import FuncAnimation\n",
    "import matplotlib.animation as animation\n",
    "from IPython.display import Image # Display gif animation\n",
    "\n",
    "# Add cvd-utils module (this should be located in the CVD_Tutorials directory)\n",
    "import sys\n",
    "sys.path.append(\"../\") # This assumes that your /.ipynb file is located in CVD_Tutorials/Tutorial01_Intro/\n",
    "# If you prefer to place cvd_utils.py elsewhere, swap \"../\" with its current path.\n",
    "import cvd_utils as cvd"
   ]
  },
  {
   "cell_type": "markdown",
   "id": "4a237307-2703-434e-a664-12930907f7cc",
   "metadata": {},
   "source": [
    "## <font color='green'>Drifter Data</font>\n",
    "\n",
    "We will be using a subset of the drifter data (jdata) supplied by Jonathan Lilly. The full dataset can be downloaded here: http://www.jmlilly.net/jmldata.html \n"
   ]
  },
  {
   "cell_type": "code",
   "execution_count": null,
   "id": "969559f7-17cc-4606-856c-5ea7fabdb93e",
   "metadata": {},
   "outputs": [],
   "source": [
    "# Load matfile into Python dictionary\n",
    "drifter_dict = loadmat('drifters.mat')\n",
    "print(drifter_dict.keys())\n",
    "\n",
    "# Load the variables and squeeze to get rid of singleton dimensions\n",
    "lat  = drifter_dict['lat'].squeeze()\n",
    "lon  = drifter_dict['lon'].squeeze()\n",
    "time = drifter_dict['time'].squeeze()\n",
    "\n",
    "# Check the number of drifters by looking at the dimensions of lat/lon/time\n",
    "vnames = ['lat','lon','time']\n",
    "for i,invar in enumerate([lat,lon,time]):\n",
    "    print(\"Size of %s is %s\" % (vnames[i],invar.shape))"
   ]
  },
  {
   "cell_type": "markdown",
   "id": "8111fa6e-c766-433f-9bd6-902ca7871f5d",
   "metadata": {},
   "source": [
    "Similar to the CTD data in Tutorial 1, the drifter data is stored in nested arrays. For example, if you index <font color='blue'>lon[i][j]</font>, the index <font color='blue'>[i]</font> will grab the timeseries longitude data for drifter i of 736, and <font color='blue'>[j]</font> indicates the point in time along that timeseries of drifter i.\n",
    "\n",
    "See the example below:"
   ]
  },
  {
   "cell_type": "code",
   "execution_count": null,
   "id": "2bea45b3-0c14-4da8-987a-b89913afe4e2",
   "metadata": {},
   "outputs": [],
   "source": [
    "# This grabs the first longitude reading of the drifter 5. \n",
    "print(lon[5][0])\n",
    "\n",
    "# Note that this is still contained within a list, indicated by the square brackets \"[]\", so you need an additional index (\"[0]\" at the end) to access the value.\n",
    "print(lon[5][0][0])"
   ]
  },
  {
   "cell_type": "markdown",
   "id": "700d8644-84db-4656-838b-eceb6c3696b3",
   "metadata": {},
   "source": [
    "Note again that different drifters may have timeseries of different length (see below). Hence, they do not all fit neatly into an array (which require that the dimensions must have matching lengths), and are stored in this nested structure."
   ]
  },
  {
   "cell_type": "code",
   "execution_count": null,
   "id": "d424e111-2cf8-48b2-831f-f4ee4bf39a96",
   "metadata": {},
   "outputs": [],
   "source": [
    "# Check length of timeseries for any drifters of your choice\n",
    "d1 = 0\n",
    "d2 = 355\n",
    "d3 = 720\n",
    "for d in [d1,d2,d3]:\n",
    "    print(\"drifter %i has a timeseries is of length %i\" % (d+1,len(time[d])))"
   ]
  },
  {
   "cell_type": "markdown",
   "id": "c0c86cee-9cc7-49ca-a094-9e653f92f20b",
   "metadata": {},
   "source": [
    "## <font color='green'>Plotting Trajectories</font>\n",
    "\n",
    "Let's start by plotting the trajectories. One package used for mapping and handling projects in Python is [cartopy](https://scitools.org.uk/cartopy/docs/latest/)$^1$. To simplify things, we will use a function <font color='blue'>cvd.plotmap()</font> that quickly initialzes the plot using various functions from cartopy.$^2$\n",
    "\n",
    "\n",
    "\n",
    "\n",
    "\n",
    "<font size=\"1.5\">[1]: Check out some of the projections that cartopy supports [here](https://scitools.org.uk/cartopy/docs/latest/crs/projections.html)!</font>\n",
    "<br />\n",
    "<font size=\"1.5\">[2]: Use the help() function to see the arguments. You can also check out the function in cvd_utils.py to see how the projection, gridlines, coastlines, etc. are set up.</font>\n",
    "    "
   ]
  },
  {
   "cell_type": "code",
   "execution_count": null,
   "id": "375e82a9-a649-4097-a6dd-392c0084baac",
   "metadata": {},
   "outputs": [],
   "source": [
    "# Use plotmap to intialize the map\n",
    "fig,ax=cvd.plotmap(land_color='k') # Feel free to try adding/changing the optional arguments. See help(cvd.plotmap) for more info\n",
    "\n",
    "for i in tqdm(range(len(lon))): # Add tqdm() around your loop iterator to display a progress bar\n",
    "    \n",
    "    # Note, ccrs.Geodetic() fixes the issue where longitude points that cross the international date line dont dispaly properly\n",
    "    # if there is a bettermore proper fix, I would be interested to learn!\n",
    "    ax.plot(lon[i],lat[i],marker=\".\",markersize=0.1,transform=ccrs.Geodetic()) \n",
    "    \n",
    "plt.show()"
   ]
  },
  {
   "cell_type": "markdown",
   "id": "89f10a7a-5344-4f09-8ba2-ebb48116e2b0",
   "metadata": {},
   "source": [
    "You can see all the squiggly lines representing different drifters. "
   ]
  },
  {
   "cell_type": "markdown",
   "id": "42fbf527-7983-4b20-b450-b62824ef235a",
   "metadata": {},
   "source": [
    "We can choose one drifter to look at how much data there is in one particular drifter trajectory. This becomes more visible if we plot each measurement as a circle, i.e. 'o'.\n",
    "\n",
    "<font color='orange'>**!! Q1** - *Fill in the plotting commands below!*</font>"
   ]
  },
  {
   "cell_type": "code",
   "execution_count": null,
   "id": "07ad6251-3600-4a66-b1a1-6c00ee41f6dd",
   "metadata": {},
   "outputs": [],
   "source": [
    "# choose a random number for drifter\n",
    "ind = 79\n",
    "\n",
    "# Get positions\n",
    "lon_drifter = lon[ind]\n",
    "lat_drifter = lat[ind]\n",
    "\n",
    "# Plot coast (Adjust bbox to zoom into a region. Type help(cvd.plotmap) for more info on the syntax)\n",
    "fig,ax=cvd.plotmap(bbox=[-180,180,-90,90])\n",
    "\n",
    "# Plot the trajectory \n",
    "#plot(lon_drifter...)\n",
    "\n",
    "# Mark beginning of trajectory red\n",
    "#plot()\n",
    "\n",
    "# Add axis labels, title\n"
   ]
  },
  {
   "cell_type": "markdown",
   "id": "630d5898-4794-4de5-9ecc-01266f35f9c5",
   "metadata": {},
   "source": [
    "## <font color='green'>The Time Variable</font>\n",
    "\n",
    "It is always wise to get familiar with the time coordinate of each individual dataset as their are many different ways and formats times are save in.\n"
   ]
  },
  {
   "cell_type": "code",
   "execution_count": null,
   "id": "d63c1d78-3708-49d5-9eb7-8251e50f61e0",
   "metadata": {},
   "outputs": [],
   "source": [
    "# To find out when the drifter was released, type...\n",
    "time_drifter = time[ind]\n",
    "print(time_drifter)\n",
    "print(len(time_drifter))"
   ]
  },
  {
   "cell_type": "markdown",
   "id": "1075a20f-033a-4655-8dd6-8811fffdb5f8",
   "metadata": {},
   "source": [
    "These numbers might not make sense to you, as it is in MatLab's *datenum* format. These numbers are some unit of time (ex. Matlab uses \"Days since ...\") to some reference or \"origin\". By default, Matlab datenums reference January 1st, Year 0.\n",
    "\n",
    "In Python, there are 3 main datetime classes to be aware of:\n",
    "1. Python timestamps represent the number of seconds until the reference time (January 1st, 1970$^3$).\n",
    "2. [datetime](https://www.kite.com/python/docs/datetime.datetime) objects are a class from Python's [datetime](https://docs.python.org/3/library/datetime.html) library specialized for storing date/time information\n",
    "3. [numpy.datetime64](https://numpy.org/doc/stable/reference/arrays.datetime.html) is a format used specifically within the NumPy package and functions similarly to Python timestamps.\n",
    "\n",
    "More details can be found in the guide [here](https://www.kite.com/python/answers/how-to-convert-between-datetime,-timestamp,-and-datetime64-in-python). In converting MatLab datenumbers for use in python, we will make use of all of the above classes.\n",
    "\n",
    "To convert the MatLab date to a human-readable string, we will use a function <font color='blue'>cvd.convert_datenum(matlab_datenum,datestr=True)</font>, which considers this offset and uses functions from Python's datetime library, Pandas ([pd.to_datetime](https://pandas.pydata.org/docs/reference/api/pandas.to_datetime.html)) and NumPy to perform the conversion (feel free to inspect the code within cvd_utils.py for further details on the procedure).\n",
    "\n",
    "<font size=\"1.5\">[3]: See this [post](http://sociograph.blogspot.com/2011/04/how-to-avoid-gotcha-when-converting.html) for a short discussion of the Matlab/Python datenum differences.</font>"
   ]
  },
  {
   "cell_type": "code",
   "execution_count": null,
   "id": "44c2750f-6aa8-4417-badf-2ec273b0f741",
   "metadata": {},
   "outputs": [],
   "source": [
    "timestr1 = cvd.convert_datenum(time_drifter[0],datestr=True)\n",
    "print(timestr1)"
   ]
  },
  {
   "cell_type": "markdown",
   "id": "bd5421ab-9f6f-4dc9-8e0b-504af88177ef",
   "metadata": {},
   "source": [
    "To check out the reference date for Python, you can type:"
   ]
  },
  {
   "cell_type": "code",
   "execution_count": null,
   "id": "12a75f8f-48a3-4cbe-ac31-18b820f9e812",
   "metadata": {},
   "outputs": [],
   "source": [
    "pd.to_datetime(0) # Converts number 0 to Timestamp"
   ]
  },
  {
   "cell_type": "markdown",
   "id": "4d7e9260-02f3-48a8-b74f-318feda1c9fe",
   "metadata": {},
   "source": [
    "Another important thing to check the temporal resultion of your data, i.e. how often did the drifter transmit its position and do we have any data gaps?\n",
    "\n",
    "Since the drifter time is in real days, the temporal resultion of the data is simply the difference between the consecutive drifter measurements."
   ]
  },
  {
   "cell_type": "code",
   "execution_count": null,
   "id": "86795ec6-9ee8-4dcf-8c60-81261906bb89",
   "metadata": {},
   "outputs": [],
   "source": [
    "# Plot the time difference between each data point\n",
    "time_drifter = np.array(time_drifter).squeeze() # Convert to 1-D numpy array\n",
    "\n",
    "fig,ax = plt.subplots(1,1)\n",
    "ax.plot(time_drifter[1:]-time_drifter[:-1],\".\")"
   ]
  },
  {
   "cell_type": "markdown",
   "id": "40dc895f-755a-4828-a1bd-3821a336f8b6",
   "metadata": {},
   "source": [
    "<font color='orange'> **!! Q2** - *Answer the following questions:*</font>\n",
    "1. <font color='orange'>What is the temporal resolution?</font>\n",
    "2. <font color='orange'>Are there any data gaps? How do you know?</font>\n"
   ]
  },
  {
   "cell_type": "code",
   "execution_count": null,
   "id": "34316547-48c6-44a9-9661-3efcd63785e9",
   "metadata": {},
   "outputs": [],
   "source": [
    "\"\"\"\n",
    "Write your answer here:\n",
    "\n",
    "\n",
    "\"\"\""
   ]
  },
  {
   "cell_type": "markdown",
   "id": "e7e7e68c-5e82-4945-81dc-09af70800976",
   "metadata": {},
   "source": [
    "## <font color='green'>Load SSH Data</font>\n",
    "\n",
    "The Sea Surface Height (SSH) data we are using has been dowloaded from this website:\n",
    "http://marine.copernicus.eu/services-portfolio/access-to-products/\n",
    "\n",
    "Daily fields are available from 1993-present and at a spatial resolution of 1/4deg in latitude and longitude. We are again using subsets of the full data set.\n",
    "\n",
    "Data harvesting has become more tricky due to the increasing amount of available data. One of the lectures will give you some insight on this but for now you don't have to worry about it.\n",
    "\n",
    "<font color='orange'> **!! Q3** - *Your task:*</font>\n",
    "1. <font color='orange'>Choose either the North Atlantic or the Tropical Eastern Pacific as your study region (these are the regions where we extracted SSH fields)</font>\n",
    "2. <font color='orange'>Plot the time mean of the SSH field</font> (see below for further instructions)\n",
    "3. <font color='orange'>Find a float in that region by looking at the starting position of each trajectory (there will be some help)</font>"
   ]
  },
  {
   "cell_type": "code",
   "execution_count": null,
   "id": "13b5ec20-b4a3-4a66-946b-542f11d62912",
   "metadata": {},
   "outputs": [],
   "source": [
    "%%time \n",
    "# Indicate \"NA\" (North Atlantic) or \"PA\" (Tropical Eastern Pacific) as your region of choice.\n",
    "region = \"NA\"\n",
    "\n",
    "# Load the netCDF contents into xarray\n",
    "if region == \"NA\":\n",
    "    print(\"Loading SSH data for North Atlantic...\")\n",
    "    ds = xr.open_dataset(\"SSH_North_Atlantic_2010_2020.nc\")\n",
    "elif region == \"PA\":\n",
    "    print(\"Loading SSH data for Tropical Eastern Pacific...\")\n",
    "    ds = xr.open_dataset(\"SSH_North_Atlantic_2010_2020.nc\")\n",
    "else:\n",
    "    print(\"Invalid entry for region. Please enter 'NA' or 'PA'.\")\n",
    "\n",
    "# Print some information\n",
    "print(ds.info())"
   ]
  },
  {
   "cell_type": "code",
   "execution_count": null,
   "id": "b46c18b5-1ffd-4684-ad81-58b34bf4c20d",
   "metadata": {},
   "outputs": [],
   "source": [
    "%%time\n",
    "\n",
    "# Load the contents into NumPy Arrays (ssh is [lon x lat x time])\n",
    "ssh     = ds.adt.values # (ADT stands for absolute dynamic topography, see the ncinfo() output above for more info)\n",
    "sshlon  = ds.longitude.values\n",
    "sshlat  = ds.latitude.values\n",
    "sshtime = ds.time.values\n",
    "\n",
    "# Create the time-mean of the data by issuing the command\n",
    "ssh_mean = ssh.mean(2) # Note that np.mean(ssh,2) is an equivalent command\n",
    "# What does the \"2\" indicate? "
   ]
  },
  {
   "cell_type": "markdown",
   "id": "26a55922-2cbc-41fa-a889-bde1d15eeb76",
   "metadata": {},
   "source": [
    "### Plotting the time-mean SSH field\n",
    "<font color='orange'>**!! Q4** - Write the code below to plot the time-mean SSH field. Some Additional tips:</font>\n",
    "- Use the [contourf](https://matplotlib.org/stable/api/_as_gen/matplotlib.pyplot.contourf.html) function and define contour levels\n",
    "- To see the contour labels, you need to add a colorbar. If you want to label the contour lines you can try [clabel](https://matplotlib.org/3.1.1/api/_as_gen/matplotlib.pyplot.clabel.html)\n",
    "- You might get a error message if ssh_mean is in the form (lon,lat) rather than (lat,lon). If so, try \".T\" to transpose the matrix.\n",
    "- As always, make sure to add labels\n",
    "- In the title, display the date range over which you averaged the SSH fields\n"
   ]
  },
  {
   "cell_type": "code",
   "execution_count": null,
   "id": "f7211400-f8ae-4bec-8846-3575707831cc",
   "metadata": {},
   "outputs": [],
   "source": [
    "# Complete and add to the code, following the instructions above\n",
    "\n",
    "# Since sshtime was read in by cvd.read_ssh as np.datetime64, convert it to a readable string.\n",
    "sshtimestr = pd.to_datetime(sshtime).strftime(\"%d-%b-%Y\") \n",
    "\n",
    "fig,ax     = cvd.plotmap()\n",
    "#ssh_contours = ax.contourf(...)"
   ]
  },
  {
   "cell_type": "markdown",
   "id": "280f0688-b402-410b-b919-74d79e484d8d",
   "metadata": {},
   "source": [
    "### Finding drifters in your region\n",
    "\n",
    "Now, we want to find floats that were actually in the region that you chose and the given time period. To do this, we have to play a little with our data since each trajectory is currently stored in a separate cell. To make the search easier, we save the starting and end points of each trajectory in a new variable.\n",
    "\n",
    "The code is already provided below, but some key aspects to understand are the function [np.where()](https://numpy.org/doc/stable/reference/generated/numpy.where.html) and [boolean indexing](https://www.gormanalysis.com/blog/python-numpy-for-your-grandma-3-4-boolean-indexing/). These techniques are quite useful for quickly filtering and selecting data based on given conditions.\n"
   ]
  },
  {
   "cell_type": "code",
   "execution_count": null,
   "id": "366c8027-c928-481b-9404-e325c6cc4c0b",
   "metadata": {},
   "outputs": [],
   "source": [
    "# Loop to save the start end end positions\n",
    "\n",
    "# Convert all matlab datenum times to Python datetime objects\n",
    "timenp = []\n",
    "for driftertime in time:\n",
    "    timenp.append(cvd.convert_datenum(driftertime,return_datetimeobj=True))\n",
    "\n",
    "# Let's first preallocate an array [variable x drifter_number]\n",
    "start_values = np.zeros([3,len(lon)],dtype='object')*np.nan # Object type since we want to store both values (lon/lat) and np.datetime64\n",
    "end_values   = np.zeros([3,len(lon)],dtype='object')*np.nan\n",
    "\n",
    "# Loop through each drifter, grab the start/end points of each variable\n",
    "for v,invar in enumerate([lon,lat,timenp]): \n",
    "    for i in range(len(invar)): # For for each drifter\n",
    "        start_values[v,i] = invar[i][0]  # Start value\n",
    "        end_values[v,i]   = invar[i][-1] # End value\n",
    "\n",
    "# Separate into their own named arrays\n",
    "lon_start  = start_values[0,:]\n",
    "lon_end    = end_values[0,:]\n",
    "lat_start  = start_values[1,:]\n",
    "lat_end    = end_values[1,:]\n",
    "time_start = start_values[2,:]\n",
    "time_end   = end_values[2,:]"
   ]
  },
  {
   "cell_type": "code",
   "execution_count": null,
   "id": "b80130a1-9671-4416-b97e-dca34537a152",
   "metadata": {},
   "outputs": [],
   "source": [
    "# Define the area you want to search in based on the selected region\n",
    "lon_bnds  = [np.min(sshlon),np.max(sshlon)]\n",
    "lat_bnds  = [np.min(sshlat),np.max(sshlat)]\n",
    "time_bnds = [dt.datetime(2008,1,1),dt.datetime(2018,1,1)] # Search between 2008 and 2018 datetime objects"
   ]
  },
  {
   "cell_type": "code",
   "execution_count": null,
   "id": "379f0db3-f658-40a9-b83b-67eb89547f1d",
   "metadata": {},
   "outputs": [],
   "source": [
    "# Using boolean indexing, select the indices where...\n",
    "# Starting/end point within lon bounds\n",
    "start_within = (lon_start>=lon_bnds[0]) & (lon_start<=lon_bnds[1]) \\\n",
    "                & (lat_start>=lat_bnds[0]) & (lat_start<=lat_bnds[1])\n",
    "\n",
    "# Starting/end point within lat bounds\n",
    "end_within   = (lon_end>=lon_bnds[0]) & (lon_end<=lon_bnds[1]) \\\n",
    "                & (lat_end>=lat_bnds[0]) & (lat_end<=lat_bnds[1])\n",
    "\n",
    "# Start and end within the time\n",
    "time_within = (time_start >= time_bnds[0]) & (time_end <= time_bnds[1])\n",
    "\n",
    "# Use np.where to get the drifter indices. np.where() returns a list, so take the first element.\n",
    "drifter_ind = np.where(start_within & end_within & time_within)[0]\n",
    "print(drifter_ind)\n",
    "print(len(drifter_ind))"
   ]
  },
  {
   "cell_type": "markdown",
   "id": "8a3bb626-dde8-47bb-8d82-da15d2f07e01",
   "metadata": {},
   "source": [
    "The length of drifter_ind shows us how many trajectories start and end in our box.\n",
    "We can plot the trajectories on our map. The values in drifter_ind give us the indices for the trajectories"
   ]
  },
  {
   "cell_type": "markdown",
   "id": "0dea2905-2e95-4926-b1cb-5751625373ef",
   "metadata": {},
   "source": [
    "### Plot drifters that were detected\n",
    "\n",
    "I always like to visualize my steps, so let's plot all the drifters we detected. "
   ]
  },
  {
   "cell_type": "code",
   "execution_count": null,
   "id": "7002811f-7c71-4e22-a331-37b9c3939cbc",
   "metadata": {},
   "outputs": [],
   "source": [
    "fig,ax = cvd.plotmap(land_color='k') \n",
    "for i in range(len(drifter_ind)):\n",
    "    k = drifter_ind[i]\n",
    "    ax.plot(lon[k],lat[k],label=\"Drifter ID: %i\"%(k))\n",
    "ax.legend()\n",
    "\n",
    "# You can adjust the axis limits using ax.set_xlim(), ax.set_ylim(), or the bbox argument\n",
    "ax.set_xlim(lon_bnds)\n",
    "ax.set_ylim(lat_bnds)"
   ]
  },
  {
   "cell_type": "markdown",
   "id": "d4e52763-afe5-4fb7-849b-472c7ea4a1b7",
   "metadata": {},
   "source": [
    "You can play with this to finally choose your one drifter who you would like to investigate further. \n",
    "To make indentification easier, you could plot a legend indicating the index of your floats"
   ]
  },
  {
   "cell_type": "markdown",
   "id": "74655f7b-8483-4fb9-b694-850853a71fe5",
   "metadata": {},
   "source": [
    "### Find the associated time range of SSH fields\n",
    "\n",
    "In order to plot the drifter trajectory on the SSH field during that time, we need to find out the time period during which the drifter\n",
    "was deployed.\n"
   ]
  },
  {
   "cell_type": "code",
   "execution_count": null,
   "id": "e25bdfe1-cbec-4f6b-8ea0-355b9a0a65ca",
   "metadata": {},
   "outputs": [],
   "source": [
    "# Choose the index for your drifter\n",
    "# ind_drifter = ...\n",
    "\n",
    "# Extract again the data for our specific drifter\n",
    "lon_drifter  = lon[ind_drifter]\n",
    "lat_drifter  = lat[ind_drifter]\n",
    "time_drifter = time[ind_drifter]\n",
    "\n",
    "# What is the first and last date?\n",
    "time_drifter_str = cvd.convert_datenum(time_drifter,datestr=True)\n",
    "# fill in the blanks below\n",
    "#first_date = ...\n",
    "#last_date  = ...\n",
    "print(\"The drifter starts on %s and ends on %s\" % (first_date,last_date))\n",
    "\n",
    "\n",
    "# Find the sshtime within that range\n",
    "sshtimeidx    = pd.to_datetime(sshtime,unit=\"D\")                               # Convert to DatetimeIndex\n",
    "first_dateidx = cvd.convert_datenum(time_drifter[0],return_datetimeobj=True)   # Convert to DatetimeIndex\n",
    "last_dateidx  = cvd.convert_datenum(time_drifter[-1],return_datetimeobj=True)  # Convert to DatetimeIndex\n",
    "# ind_time      = np.where((sshtimeidx >= ... ) & (sshtimeindex <= ...))[0]\n",
    "\n",
    "# Print the indices and the number found\n",
    "print(\"Found a total of %i drifters!\" %(len(ind_time))) \n",
    "print(\"These are the corresponding indices: %s\" % (str(ind_time)))"
   ]
  },
  {
   "cell_type": "markdown",
   "id": "8b08c561-8f8a-4a19-b9ff-86dc0fa4b0cb",
   "metadata": {},
   "source": [
    "Great, now we can cut out the SSH data we need!"
   ]
  },
  {
   "cell_type": "code",
   "execution_count": null,
   "id": "0ee5b383-7b50-4881-94d1-d8ce4825dd1f",
   "metadata": {},
   "outputs": [],
   "source": [
    "ssh_drifter      = ssh[:,:,ind_time]\n",
    "ssh_time_drifter = sshtime[ind_time]\n",
    "print(\"Shape of ssh_drifter is %s\" % (str(ssh_drifter.shape)))\n",
    "print(\"Shape of ssh_time_drifter is %s\" % (str(ssh_time_drifter.shape)))"
   ]
  },
  {
   "cell_type": "markdown",
   "id": "8266d861-3416-4b2e-9aa5-05d21771fbae",
   "metadata": {},
   "source": [
    "<font color='orange'> **!! Q5** - *Your task:*</font>\n",
    "1. <font color='orange'>Now derive the mean SSH field only over the drifter's time period, i.e. the time-mean of\n",
    "ssh_drifter, and plot the trajectory on top. (Remember to check which dimension represents time)</font>\n",
    "2. <font color='orange'>Comment on how well the drifter trajectory and the time-mean sea surface height agree.\n",
    "Hint: think about which direction the pressure gradient is going, and which direction you would expect the geostrophic\n",
    "current to go.</font> "
   ]
  },
  {
   "cell_type": "code",
   "execution_count": null,
   "id": "058c87af-a0ca-4bc2-ae26-9c97ec4aa4ea",
   "metadata": {},
   "outputs": [],
   "source": [
    "# Place your code here:\n",
    "# you might want to draw your trajectory with a thicker line. Try adjust the 'linewidth' or 'lw' parameter.\n",
    "# If you're feeling adventurous, you can try playing around with projections. \n",
    "# See: https://scitools.org.uk/cartopy/docs/latest/crs/projections.html and try passing something to the proj argument of cvd.plotmap()\n",
    "\n",
    "fig,ax = cvd.plotmap()\n",
    "#ssh_contours = ax.contourf...\n",
    "#ax.plot(lon_drifter(..."
   ]
  },
  {
   "cell_type": "code",
   "execution_count": null,
   "id": "8b5233c8-516a-4133-924d-55db1fd0ee4d",
   "metadata": {},
   "outputs": [],
   "source": [
    "\"\"\"\n",
    "Write your answer here:\n",
    "\n",
    "\n",
    "\"\"\""
   ]
  },
  {
   "cell_type": "markdown",
   "id": "c8ec496c-930e-4bb6-82a7-cdacd1004737",
   "metadata": {},
   "source": [
    "## <font color='green'>Maing a movie of time-varying SSH and your float trajectory</font>\n",
    "\n",
    "You can get most information on how the sea surface height and the drifter trajectory are related by making an animation (.gif) of the two$^4$. Let's begin by first making a movie of only the sea surface height.\n",
    "\n",
    "We will be using the [matplotlib.animation](https://matplotlib.org/stable/api/animation_api.html) library to create our animation. The general workflow can be broken into the following steps:\n",
    "\n",
    "1. Initialize your figure and the matplotlib objects (line for plot(), quadmesh for pcolormesh).\n",
    "2. Write an \"animate\" function to update the matplotlib objects with data for each frame\n",
    "3. Pass the function and figure to [FuncAnimation()](https://matplotlib.org/stable/api/_as_gen/matplotlib.animation.FuncAnimation.html#matplotlib.animation.FuncAnimation) to create an [animation](https://matplotlib.org/stable/api/_as_gen/matplotlib.animation.Animation.html#matplotlib.animation.Animation) object\n",
    "4. Export your animation with the specified writer and specs (dpi, fps)\n",
    "\n",
    "In the case of SSH, each \"frame\" will be a timestep of SSH values. \n",
    "\n",
    "<font color='orange'>**!! Q6** - The code provided below shows an example of how to create a gif animation. Try modifying the parameters, such as the colorbar limits (clims), contour levels (levels), frames per second (fps).</font>\n",
    "\n",
    "<font size=\"1.5\">[4]: The matplotlib.animation library also supports writing to other formats, such as mp4. This invovles some extra steps though, depending upon your operating system. For .mp4 specifically, you need to install the ffmpeg package on your computer if it isn't present and point the path to your installation. Afterwards, you should be able to use the FFMpegWriter to output a .mp4 animation. Some further instructions can be found at this [guide](r'C:\\\\Users\\\\xx\\\\Desktop\\\\ffmpeg\\\\bin\\\\ffmpeg.exe')</font>"
   ]
  },
  {
   "cell_type": "code",
   "execution_count": null,
   "id": "668fba22-1449-4d6a-b035-0c669192a75a",
   "metadata": {},
   "outputs": [],
   "source": [
    "# ----------------------------------------------------\n",
    "# Indicate animation parameters (Try modifying these!)\n",
    "# ----------------------------------------------------\n",
    "frames    = len(ssh_time_drifter)          # How many frames (timesteps) you want to display.\n",
    "figsize   = (12,8)                         # Size of figure in inches\n",
    "clims     = [-1.5,1.5]                     # Colorbar limits. Set this to make sure it doesn't change from frame-to-frame.\n",
    "interval  = 100                            # Delay between frames in milliseconds\n",
    "bbox_anim = np.hstack([lon_bnds,lat_bnds]) # Create latitude/longitude bounds\n",
    "fps       = 10                             # Frames per second \n",
    "dpi       = 100                            # Resolution of output (dots per inches)\n",
    "cmap      = cmocean.cm.balance             # Colormaps\n",
    "animname  = \"Q4_Animation_pcolormesh.gif\"             # Name of output figure\n",
    "\n",
    "# ------------------\n",
    "# Do some set-up ...\n",
    "# ------------------\n",
    "# Make time titles for each timestep\n",
    "timestrs  = pd.to_datetime(ssh_time_drifter).strftime(\"%d-%b-%Y %H:%M:%S\") # Convert to DateTimeIndex, then to datestr\n",
    "\n",
    "# Indicate input variables\n",
    "invar      = ssh_drifter.copy().transpose(1,0,2) # Transpose to [lat x lon x time] for ease of use"
   ]
  },
  {
   "cell_type": "markdown",
   "id": "3a808c70-0067-473d-841d-cfd5252e8f3a",
   "metadata": {},
   "source": [
    "The code below makes an animation with pcolormesh..."
   ]
  },
  {
   "cell_type": "code",
   "execution_count": null,
   "id": "0b503814-9f70-4259-9faf-9357b003af53",
   "metadata": {},
   "outputs": [],
   "source": [
    "%%time\n",
    "\n",
    "# Create the animation (Note: this might take a few minutes depending upon the number of frames, resolution, etc)\n",
    "# -------------------------\n",
    "# 1. Initialize the figure\n",
    "# -------------------------\n",
    "# Things that remain the same frame-to-frame are set here.\n",
    "# Create figure, add grid, draw continents\n",
    "fig,ax = cvd.plotmap(bbox=bbox_anim,land_color='k')\n",
    "# Create quadmesh object. starting with the first timestep. Set colormap and colorbar limits\n",
    "pcm    = ax.pcolormesh(sshlon,sshlat,invar[...,0],vmin=clims[0],vmax=clims[-1],cmap=cmap)\n",
    "# Initialize color\n",
    "cb     = fig.colorbar(pcm,ax=ax,fraction=0.0275,pad=0.01)\n",
    "cb.set_label(\"SSH (m)\")\n",
    "\n",
    "# --------------------------------------------------\n",
    "# 2. Create an animation function to draw each frame\n",
    "# --------------------------------------------------\n",
    "def animate(i): # The animation function takes 1 argument, the frame number\n",
    "    global invar,pcm,frames,timestrs,sshlat,sshlon\n",
    "    pcm.set_array(invar[...,i].flatten()) # .set_array() updates the quadmesh object, and only takes a 1D input.\n",
    "    ax.set_title(timestrs[i])             # Add a time-involving title.\n",
    "    print(\"\\rCompleted frame %i of %i\"% (i,frames),end=\"\\r\",flush=True) # Print message indicating progress\n",
    "\n",
    "# ------------------------------------------------------------\n",
    "# 3. Create animation object, and pass the function and figure\n",
    "# ------------------------------------------------------------\n",
    "anim = FuncAnimation(\n",
    "    fig, animate, interval=interval, frames=frames, blit=False)\n",
    "\n",
    "# ------------------------------------------------------------\n",
    "# 4. Save the output as a gif\n",
    "# ------------------------------------------------------------\n",
    "anim.save(animname, writer='ImageMagickWriter',fps=fps,dpi=dpi)\n",
    "\n",
    "# --------------------------------------\n",
    "# 5. Open file and display the animation\n",
    "# --------------------------------------\n",
    "with open(animname,'rb') as file:\n",
    "    display(Image(file.read()))"
   ]
  },
  {
   "cell_type": "markdown",
   "id": "94169e01-0bc9-470b-a918-e65df869d2c6",
   "metadata": {},
   "source": [
    "Instead of pcolormesh, we can also try to make a quote with contours. There are a few more steps involved, with the main differences being the creation of a collection of artist objects (cl, cf) to pass to the animation function, and the removal of the previous object to save memory.$^5$\n",
    "\n",
    "<font size=1.5>[5]: This is based on some tips from this [stackexchange thread](https://stackoverflow.com/questions/42386372/increase-the-speed-of-redrawing-contour-plot-in-matplotlib/42398244#42398244).</font>"
   ]
  },
  {
   "cell_type": "code",
   "execution_count": null,
   "id": "18737b71-c7eb-4b87-806c-654ece514a59",
   "metadata": {},
   "outputs": [],
   "source": [
    "%%time\n",
    "\n",
    "# Let's try same thing but with contours\n",
    "\n",
    "# Set the contour levels\n",
    "animname  = \"Q4_Animation_contour.gif\"             # Name of output figure\n",
    "clims     = [-1,1]\n",
    "levels    = np.linspace(clims[0],clims[-1],20)\n",
    "\n",
    "# Create the animation (Note: this might take a few minutes depending upon the number of frames, resolution, etc)\n",
    "# -------------------------\n",
    "# 1. Initialize the figure\n",
    "# -------------------------\n",
    "# Things that remain the same frame-to-frame are set here.\n",
    "# Create figure, add grid, draw continents\n",
    "fig,ax = cvd.plotmap(bbox=bbox_anim,land_color='k')\n",
    "# Create a collection of artist objects \n",
    "cf  = [ax.contourf(sshlon,sshlat,invar[...,i], levels, cmap=cmap ) ]\n",
    "cl  = [ax.contour(sshlon,sshlat,invar[...,i], levels, colors=\"k\",linewidths=0.75) ]\n",
    "# Initialize color\n",
    "cb     = fig.colorbar(cf[0],ax=ax,fraction=0.0275,pad=0.01)\n",
    "cb.set_label(\"SSH (m)\")\n",
    "\n",
    "# --------------------------------------------------\n",
    "# 2. Create an animation function to draw each frame\n",
    "# --------------------------------------------------\n",
    "def animate(i): # The animation function takes 1 argument, the frame number\n",
    "    global invar,cf,cl,frames,timestrs,sshlat,sshlon\n",
    "    # To save memory, remove the old artist objects (contourfills and lines)\n",
    "    for tp in cf[0].collections:\n",
    "        tp.remove()\n",
    "    for tp in cl[0].collections:\n",
    "        tp.remove()\n",
    "    # Make new contour fills and lines for the frame\n",
    "    cf[0]  = ax.contourf(sshlon,sshlat,invar[...,i], levels, cmap= cmap) \n",
    "    cl[0]  = ax.contour(sshlon,sshlat,invar[...,i], levels, colors=\"k\",linewidths=0.75)\n",
    "    ax.set_title(timestrs[i])             # Add a time-involving title.\n",
    "    print(\"\\rCompleted frame %i of %i\"% (i,frames),end=\"\\r\",flush=True) # Print message indicating progress\n",
    "\n",
    "# ------------------------------------------------------------\n",
    "# 3. Create animation object, and pass the function and figure\n",
    "# ------------------------------------------------------------\n",
    "anim = FuncAnimation(\n",
    "    fig, animate, interval=interval, frames=frames, blit=False)\n",
    "\n",
    "# ------------------------------------------------------------\n",
    "# 4. Save the output as a gif\n",
    "# ------------------------------------------------------------\n",
    "anim.save(animname, writer='ImageMagickWriter',fps=fps,dpi=dpi)\n",
    "\n",
    "# --------------------------------------\n",
    "# 5. Open file and display the animation\n",
    "# --------------------------------------\n",
    "with open(animname,'rb') as file:\n",
    "    display(Image(file.read()))"
   ]
  },
  {
   "cell_type": "markdown",
   "id": "92b9458c-db76-4e94-bfad-ea75dea701e9",
   "metadata": {},
   "source": [
    "Next, we want to add the location of the drifter. The problem is that the times associated with ssh and drifter data are not the same, \n",
    "i.e. they have different temporal resolutions. To do this you need to:\n",
    "\n",
    "1. Find the time associated with the ssh that you are plotting, i.e. sshtime(t)\n",
    "2. Find the location in time_drifter that corresponds to that time, i.e. ind=np.where(time_drifter_np==sshtime[t])[0][0]\n",
    "3. Create the animation and include the position of the drifter at each time you found above.\n",
    "- Hint: You will need to create a line object to pass to the animate function (ln,= ax.plot([],[],...) and use ln.set_data() to indicate the x and y coordinates. If you cannot see the point, try adjust the properties such as \"markersize\", \"marker\", and \"markercolor\"\n",
    "\n",
    "\n",
    "<font color='orange'>**!! Q7 -** *Based on the code and instructions above, make an animation of SSH (either contours or pcolor) and the trajectory position. Hints and sections are provided below, try to fill in the blanks and add your own sections.*</font>"
   ]
  },
  {
   "cell_type": "code",
   "execution_count": null,
   "id": "a3ec8969-e6ac-44af-a6d1-63e91cf659f3",
   "metadata": {},
   "outputs": [],
   "source": [
    "## Convert from datenum to np.datetime64 (format of sshtime)\n",
    "time_drifter_np = (cvd.convert_datenum(time_drifter)).squeeze()\n",
    "\n",
    "## Find the drifter times that correspond to each ssh measurement\n",
    "id_time = []\n",
    "for i in range(len(ssh_time_drifter)):\n",
    "    #ind = np.where(... <FILL IN HERE>\n",
    "    id_time.append(k)\n",
    "\n",
    "## Get the values for lat/lon/time corresponding to each drifter\n",
    "#  <FILL IN HERE>\n"
   ]
  },
  {
   "cell_type": "code",
   "execution_count": null,
   "id": "8f63c207-f093-4e55-aef4-596bb6037b92",
   "metadata": {},
   "outputs": [],
   "source": [
    "%%time\n",
    "\n",
    "\"\"\"\n",
    "Below is the outline to create an animation. Following the examples above, write your own code to animate SSH AND the trajectory position.\n",
    "OPTIONAL: If you're in the mood for a challenge, try to add a \"tail\" of the trajectory's previous positions!\n",
    "\"\"\"\n",
    "\n",
    "# -------------------------\n",
    "# 1. Initialize figure\n",
    "# -------------------------\n",
    "# What aspects of the plot do you need to create and pass to the animate function?\n",
    "\n",
    "# --------------------------------\n",
    "# 2. Create an animation function\n",
    "# --------------------------------\n",
    "# How do you update the animation? What changes each frame?\n",
    "\n",
    "# --------------------------\n",
    "# 3. Create animation object\n",
    "# --------------------------\n",
    "# How do you create the animation object?\n",
    "\n",
    "# ------------------------------------------------------------\n",
    "# 4. Save the output as a gif\n",
    "# ------------------------------------------------------------\n",
    "# What steps are involved in saving the animation?\n",
    "\n",
    "# ------------------------------------\n",
    "# 5. Open file and display the animation\n",
    "# ------------------------------------\n",
    "# Try to read the file and display the animation below using read(), display(), and Image()\n"
   ]
  },
  {
   "cell_type": "markdown",
   "id": "82fe17db-400e-45fa-856f-3eda54da1b4c",
   "metadata": {
    "tags": []
   },
   "source": [
    "## <font color='green'>Your report</font>\n",
    "Your final report should only contain the important plots. You may want to create two files: one for yourself that includes everything above and one for marking that only includes the relevant material. This should include:\n",
    "- A plot with the available drifters in the region you chose, including coastlines\n",
    "- Our gif animation\n",
    "- A snapshot of SSH at some time where you can see an interesting feature\n",
    "- All answers to questions asked throughout (including the one below).\n",
    "\n",
    "Remember labels etc. and figure captions.\n",
    "\n",
    "<font color='orange'>!! **Q8 -** Give a brief (<100 words) description of: </font>\n",
    "1. <font color='orange'>How the drifter location changes in relation to SSH </font>\n",
    "2. <font color='orange'>What you would expect the ocean circulation doing in your snapshot of SSH </font>"
   ]
  }
 ],
 "metadata": {
  "kernelspec": {
   "display_name": "Python 3 (ipykernel)",
   "language": "python",
   "name": "python3"
  },
  "language_info": {
   "codemirror_mode": {
    "name": "ipython",
    "version": 3
   },
   "file_extension": ".py",
   "mimetype": "text/x-python",
   "name": "python",
   "nbconvert_exporter": "python",
   "pygments_lexer": "ipython3",
   "version": "3.7.10"
  }
 },
 "nbformat": 4,
 "nbformat_minor": 5
}
